{
 "cells": [
  {
   "cell_type": "code",
   "execution_count": 27,
   "metadata": {},
   "outputs": [
    {
     "name": "stdout",
     "output_type": "stream",
     "text": [
      "0\n"
     ]
    }
   ],
   "source": [
    "res = []\n",
    "pm = 0\n",
    "with open('./runs/output_beam.txt', 'r') as f:\n",
    "    lines = f.readlines()\n",
    "    for line in lines:\n",
    "        data = {}\n",
    "        data['src'], data['tgt'], data['pred'], data['bleu'] = line.split('|||')\n",
    "        data['bleu'] = float(data['bleu'])\n",
    "        if data['bleu'] == 1:\n",
    "            pm += 1\n",
    "        res.append(data)\n",
    "\n",
    "print(pm)\n",
    "\n",
    "sorted_res = sorted(res, key=lambda x: x['bleu'], reverse=True)\n",
    "\n",
    "for r in sorted_res[0:100]:\n",
    "    # 格式化输出\n",
    "    if len(r['src']) > 50:\n",
    "        print(f\"Source: {r['src']}\")\n",
    "        print(f\"Target: {r['tgt']}\")\n",
    "        print(f\"Prediction: {r['pred']}\")\n",
    "        print(f\"BLEU Score: {r['bleu']}\")\n",
    "        print(\"-\" * 50)"
   ]
  }
 ],
 "metadata": {
  "kernelspec": {
   "display_name": "ai",
   "language": "python",
   "name": "python3"
  },
  "language_info": {
   "codemirror_mode": {
    "name": "ipython",
    "version": 3
   },
   "file_extension": ".py",
   "mimetype": "text/x-python",
   "name": "python",
   "nbconvert_exporter": "python",
   "pygments_lexer": "ipython3",
   "version": "3.8.19"
  }
 },
 "nbformat": 4,
 "nbformat_minor": 2
}
